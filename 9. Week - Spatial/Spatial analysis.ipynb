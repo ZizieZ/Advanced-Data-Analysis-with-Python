{
 "cells": [
  {
   "cell_type": "code",
   "execution_count": null,
   "id": "middle-albania",
   "metadata": {},
   "outputs": [],
   "source": [
    "import pandas as pd\n",
    "import numpy as np"
   ]
  },
  {
   "cell_type": "code",
   "execution_count": null,
   "id": "large-reception",
   "metadata": {},
   "outputs": [],
   "source": [
    "#A cleaned version Brazil MST data (only for 2005)\n",
    "data = pd.read_stata('C:/Users/user/Desktop/Advanced Data Analysis with Python 9.9.22/Datasets/Brazil MST data 2005.dta')\n",
    "data.columns"
   ]
  },
  {
   "cell_type": "markdown",
   "id": "58ba66f9",
   "metadata": {},
   "source": [
    "### Installation of Geopandas"
   ]
  },
  {
   "cell_type": "code",
   "execution_count": null,
   "id": "announced-category",
   "metadata": {
    "scrolled": true
   },
   "outputs": [],
   "source": [
    "#pip install geopandas"
   ]
  },
  {
   "cell_type": "markdown",
   "id": "assured-focus",
   "metadata": {},
   "source": [
    "If you get trouble while installing geopandas, follow the conda way. Please follow the conda section in the following link: https://geopandas.org/en/stable/getting_started/install.html\n",
    "\n",
    "Summary, run following codes in anaconda prompt, give your permission if asked:\n",
    "\n",
    "1. conda install --channel conda-forge geopandas\n",
    "\n",
    "2. conda create -n geo_env\n",
    "\n",
    "3. conda activate geo_env\n",
    "\n",
    "4. conda config --env --add channels conda-forge\n",
    "\n",
    "5. conda config --env --set channel_priority strict\n",
    "\n",
    "6. conda install python=3 geopandas\n",
    "\n",
    "\n",
    "Then, activate geo_env in the anaconda prompt, and call \"jupyter notebook\" in that environment. Then you are using your notebook in a separate place. Note that, python might ask you to install some packages again, you are in a new zone."
   ]
  },
  {
   "cell_type": "code",
   "execution_count": null,
   "id": "southeast-inventory",
   "metadata": {},
   "outputs": [],
   "source": [
    "import geopandas"
   ]
  },
  {
   "cell_type": "markdown",
   "id": "f8b68134",
   "metadata": {},
   "source": [
    "### Read, merge, and plot"
   ]
  },
  {
   "cell_type": "code",
   "execution_count": null,
   "id": "dietary-passing",
   "metadata": {},
   "outputs": [],
   "source": [
    "import geopandas as gpd\n",
    "\n",
    "shapefile = gpd.read_file(\"BR/BRMUE250GC_SIR.shp\")\n",
    "print(shapefile)"
   ]
  },
  {
   "cell_type": "code",
   "execution_count": null,
   "id": "inside-howard",
   "metadata": {},
   "outputs": [],
   "source": [
    "shapefile.plot()\n",
    "#we don't have any varaible yet, only ibgecode and geometry"
   ]
  },
  {
   "cell_type": "code",
   "execution_count": null,
   "id": "293e1b68",
   "metadata": {},
   "outputs": [],
   "source": [
    "#Let's merge them\n",
    "merged_data = shapefile.merge(data, on='ibgecode')"
   ]
  },
  {
   "cell_type": "code",
   "execution_count": null,
   "id": "e133a7ca",
   "metadata": {
    "scrolled": true
   },
   "outputs": [],
   "source": [
    "merged_data.plot()"
   ]
  },
  {
   "cell_type": "code",
   "execution_count": null,
   "id": "7da37697",
   "metadata": {},
   "outputs": [],
   "source": [
    "merged_data.boundary"
   ]
  },
  {
   "cell_type": "code",
   "execution_count": null,
   "id": "5fc9a908",
   "metadata": {},
   "outputs": [],
   "source": [
    "merged_data.centroid"
   ]
  },
  {
   "cell_type": "code",
   "execution_count": null,
   "id": "a9aebadd",
   "metadata": {},
   "outputs": [],
   "source": [
    "print(merged_data.head())"
   ]
  },
  {
   "cell_type": "code",
   "execution_count": null,
   "id": "2ccc732f",
   "metadata": {},
   "outputs": [],
   "source": [
    "# Check what kind of object merged_data is\n",
    "print(type(merged_data))"
   ]
  },
  {
   "cell_type": "code",
   "execution_count": null,
   "id": "6b5801de",
   "metadata": {},
   "outputs": [],
   "source": [
    "# Check the type of the geometry attribute\n",
    "print(type(merged_data.geometry))"
   ]
  },
  {
   "cell_type": "code",
   "execution_count": null,
   "id": "4728fb21",
   "metadata": {},
   "outputs": [],
   "source": [
    "# Inspect the first rows of the geometry\n",
    "print(merged_data.geometry.head())"
   ]
  },
  {
   "cell_type": "code",
   "execution_count": null,
   "id": "cc7937c2",
   "metadata": {},
   "outputs": [],
   "source": [
    "# Inspect the area of the municipalities\n",
    "print(merged_data.geometry.area)"
   ]
  },
  {
   "cell_type": "code",
   "execution_count": null,
   "id": "vocal-navigation",
   "metadata": {},
   "outputs": [],
   "source": [
    "#Plot by invasion count\n",
    "merged_data.plot(column='invasions_count_cum')"
   ]
  },
  {
   "cell_type": "code",
   "execution_count": null,
   "id": "excess-guide",
   "metadata": {},
   "outputs": [],
   "source": [
    "import matplotlib.pyplot as plt\n",
    "fig, ax = plt.subplots(1, 1)\n",
    "merged_data.plot(column='log_income', ax=ax, legend=True)"
   ]
  },
  {
   "cell_type": "code",
   "execution_count": null,
   "id": "8b90aef7",
   "metadata": {},
   "outputs": [],
   "source": [
    "fig, ax = plt.subplots(figsize=(10, 10))\n",
    "merged_data.plot(column='log_income', cmap='OrRd', scheme='quantiles', ax=ax, legend=True)\n",
    "ax.set_axis_off()\n",
    "plt.show()"
   ]
  },
  {
   "cell_type": "code",
   "execution_count": null,
   "id": "96f5e5c5",
   "metadata": {},
   "outputs": [],
   "source": [
    "fig, ax = plt.subplots(figsize=(10, 10))\n",
    "merged_data.plot(column='log_income', ax=ax, legend=True, \n",
    "                 legend_kwds={'label': \"Income by municipality\", 'orientation': \"horizontal\"})"
   ]
  },
  {
   "cell_type": "code",
   "execution_count": null,
   "id": "772a2b82",
   "metadata": {},
   "outputs": [],
   "source": [
    "merged_data.boundary.plot(figsize=(10, 10))"
   ]
  },
  {
   "cell_type": "code",
   "execution_count": null,
   "id": "1824c383",
   "metadata": {},
   "outputs": [],
   "source": [
    "invasions = merged_data[merged_data['invasions_dum'] == 1]"
   ]
  },
  {
   "cell_type": "code",
   "execution_count": null,
   "id": "d8605967",
   "metadata": {},
   "outputs": [],
   "source": [
    "inv_plot = invasions.plot(marker='*', color='red', markersize=5, figsize=(10, 10))\n",
    "inv_plot.set_axis_off()\n",
    "plt.show()"
   ]
  },
  {
   "cell_type": "code",
   "execution_count": null,
   "id": "c500e728",
   "metadata": {},
   "outputs": [],
   "source": [
    "fig, ax = plt.subplots(figsize=(10, 10))\n",
    "merged_data.plot(ax=ax, color='black')\n",
    "\n",
    "invasions.plot(ax=ax, color='white')\n",
    "\n",
    "ax.set_axis_off()\n",
    "plt.show()"
   ]
  },
  {
   "cell_type": "code",
   "execution_count": null,
   "id": "338a2a9c",
   "metadata": {},
   "outputs": [],
   "source": [
    "base = merged_data.plot(color='black', figsize=(10, 10))\n",
    "invasions.plot(ax=base, marker='o', color='white', markersize=5)"
   ]
  },
  {
   "cell_type": "code",
   "execution_count": null,
   "id": "827c7119",
   "metadata": {},
   "outputs": [],
   "source": [
    "base = merged_data.plot(color='black', edgecolor='green', figsize=(10, 10))\n",
    "invasions.plot(ax=base, marker='o', color='purple', markersize=5)"
   ]
  },
  {
   "cell_type": "markdown",
   "id": "9c632707",
   "metadata": {},
   "source": [
    "### Spatial weight matrix"
   ]
  },
  {
   "cell_type": "code",
   "execution_count": null,
   "id": "91c8a6fd",
   "metadata": {},
   "outputs": [],
   "source": [
    "#pip install pysal"
   ]
  },
  {
   "cell_type": "markdown",
   "id": "926da450",
   "metadata": {},
   "source": [
    "1. conda install --channel conda-forge pysal\n",
    "\n",
    "(skip second step if you created the geo_env above)\n",
    "\n",
    "2. conda create -n geo_env\n",
    "\n",
    "3. conda activate geo_env\n",
    "\n",
    "4. conda config --env --add channels conda-forge\n",
    "\n",
    "5. conda config --env --set channel_priority strict\n",
    "\n",
    "6. conda install python=3 pysal"
   ]
  },
  {
   "cell_type": "code",
   "execution_count": null,
   "id": "a44b8149",
   "metadata": {
    "scrolled": true
   },
   "outputs": [],
   "source": [
    "import pysal as ps"
   ]
  },
  {
   "cell_type": "code",
   "execution_count": null,
   "id": "5b5aeae5",
   "metadata": {},
   "outputs": [],
   "source": [
    "import libpysal"
   ]
  },
  {
   "cell_type": "code",
   "execution_count": null,
   "id": "2fef1d4f",
   "metadata": {},
   "outputs": [],
   "source": [
    "from libpysal.weights import Queen, Rook, KNN"
   ]
  },
  {
   "cell_type": "markdown",
   "id": "04ec6d34",
   "metadata": {},
   "source": [
    "Queen: More inclusive, catches any vertex\n",
    "\n",
    "Rook: Considers edges\n",
    "\n",
    "KNN: Equal number of neighbors for each, according to distances"
   ]
  },
  {
   "cell_type": "code",
   "execution_count": null,
   "id": "1765f59b",
   "metadata": {},
   "outputs": [],
   "source": [
    "w_knn1 = KNN.from_shapefile('BR/BRMUE250GC_SIR.shp')"
   ]
  },
  {
   "cell_type": "code",
   "execution_count": null,
   "id": "3ec70f91",
   "metadata": {},
   "outputs": [],
   "source": [
    "len(w_knn1.neighbors)"
   ]
  },
  {
   "cell_type": "code",
   "execution_count": null,
   "id": "74b5e961",
   "metadata": {},
   "outputs": [],
   "source": [
    "w_knn1.neighbors"
   ]
  },
  {
   "cell_type": "code",
   "execution_count": null,
   "id": "977b81e0",
   "metadata": {},
   "outputs": [],
   "source": [
    "w_knn3 = KNN.from_shapefile('BR/BRMUE250GC_SIR.shp',3) #default was 2"
   ]
  },
  {
   "cell_type": "code",
   "execution_count": null,
   "id": "b19d46dc",
   "metadata": {},
   "outputs": [],
   "source": [
    "w_knn3.neighbors"
   ]
  },
  {
   "cell_type": "code",
   "execution_count": null,
   "id": "3f2d7ede",
   "metadata": {},
   "outputs": [],
   "source": [
    "w_queen = Queen.from_shapefile('BR/BRMUE250GC_SIR.shp')"
   ]
  },
  {
   "cell_type": "code",
   "execution_count": null,
   "id": "ef56aaad",
   "metadata": {},
   "outputs": [],
   "source": [
    "len(w_queen.neighbors)"
   ]
  },
  {
   "cell_type": "code",
   "execution_count": null,
   "id": "6eee4878",
   "metadata": {},
   "outputs": [],
   "source": [
    "w_queen.neighbors"
   ]
  },
  {
   "cell_type": "code",
   "execution_count": null,
   "id": "7d089bc3",
   "metadata": {},
   "outputs": [],
   "source": [
    "w_rook = Rook.from_shapefile('BR/BRMUE250GC_SIR.shp')"
   ]
  },
  {
   "cell_type": "code",
   "execution_count": null,
   "id": "1ca62418",
   "metadata": {},
   "outputs": [],
   "source": [
    "len(w_rook.neighbors)"
   ]
  },
  {
   "cell_type": "code",
   "execution_count": null,
   "id": "90c26d9e",
   "metadata": {},
   "outputs": [],
   "source": [
    "w_rook.neighbors"
   ]
  },
  {
   "cell_type": "code",
   "execution_count": null,
   "id": "56d59a77",
   "metadata": {},
   "outputs": [],
   "source": [
    "w_rook.neighbors[4]"
   ]
  },
  {
   "cell_type": "code",
   "execution_count": null,
   "id": "d0ccc981",
   "metadata": {},
   "outputs": [],
   "source": [
    "w_queen.neighbors[4]"
   ]
  },
  {
   "cell_type": "code",
   "execution_count": null,
   "id": "084112fb",
   "metadata": {},
   "outputs": [],
   "source": [
    "#We can call weight object directly from the dataframe\n",
    "wq = libpysal.weights.Queen.from_dataframe(merged_data)\n",
    "wq"
   ]
  },
  {
   "cell_type": "code",
   "execution_count": null,
   "id": "aba44c76",
   "metadata": {},
   "outputs": [],
   "source": [
    "#We need to standardize our weights with respect to rows\n",
    "wq.transform = 'r'"
   ]
  },
  {
   "cell_type": "markdown",
   "id": "6f6c0aa3",
   "metadata": {},
   "source": [
    "### Produce spatial lags"
   ]
  },
  {
   "cell_type": "code",
   "execution_count": null,
   "id": "208c51ba",
   "metadata": {},
   "outputs": [],
   "source": [
    "merged_data['invasions_count_splag'] = libpysal.weights.lag_spatial(wq, merged_data['invasions_count'])"
   ]
  },
  {
   "cell_type": "code",
   "execution_count": null,
   "id": "3b68d0d1",
   "metadata": {},
   "outputs": [],
   "source": [
    "merged_data['invasions_count_splag'],merged_data['invasions_count']"
   ]
  },
  {
   "cell_type": "code",
   "execution_count": null,
   "id": "85eecc56",
   "metadata": {},
   "outputs": [],
   "source": [
    "merged_data['invasions_count'].corr(merged_data['invasions_count_splag'])"
   ]
  },
  {
   "cell_type": "code",
   "execution_count": null,
   "id": "05d39ea5",
   "metadata": {},
   "outputs": [],
   "source": [
    "merged_data['BF_coverage1000_splag'] = libpysal.weights.lag_spatial(wq, merged_data['BF_coverage1000'])\n",
    "merged_data['BF_coverage1000'].corr(merged_data['BF_coverage1000_splag'])"
   ]
  },
  {
   "cell_type": "markdown",
   "id": "9c82ff34",
   "metadata": {},
   "source": [
    "!!! Spatial autocorrelation alert !!!"
   ]
  },
  {
   "cell_type": "code",
   "execution_count": null,
   "id": "a68bfe07",
   "metadata": {},
   "outputs": [],
   "source": [
    "merged_data['log_income_splag'] = libpysal.weights.lag_spatial(wq, merged_data['log_income'])\n",
    "merged_data['ln_agriculturalproductivity_splag'] = libpysal.weights.lag_spatial(wq, merged_data['ln_agriculturalproductivity'])\n",
    "merged_data['PT_voteshare_splag'] = libpysal.weights.lag_spatial(wq, merged_data['PT_voteshare'])\n",
    "merged_data['infantmortality_splag'] = libpysal.weights.lag_spatial(wq, merged_data['infantmortality'])\n",
    "\n",
    "import seaborn as sns\n",
    "\n",
    "fig = plt.subplots(figsize=(15, 15))\n",
    "sns.heatmap(merged_data[['invasions_count', 'invasions_count_splag', 'log_income', 'log_income_splag', \n",
    "                        'ln_agriculturalproductivity','ln_agriculturalproductivity_splag', 'PT_voteshare',\n",
    "                        'PT_voteshare_splag','infantmortality','infantmortality_splag']].corr(), cmap=\"YlGnBu\", annot=True)\n",
    "plt.show()"
   ]
  },
  {
   "cell_type": "markdown",
   "id": "8b3472d9",
   "metadata": {},
   "source": [
    "### Run the Spatial regression\n",
    "\n",
    "http://darribas.org/gds_scipy16/ipynb_md/08_spatial_regression.html"
   ]
  },
  {
   "cell_type": "code",
   "execution_count": null,
   "id": "975b2edc",
   "metadata": {},
   "outputs": [],
   "source": [
    "merged_data = merged_data.dropna(axis=0)"
   ]
  },
  {
   "cell_type": "code",
   "execution_count": null,
   "id": "629cc290",
   "metadata": {},
   "outputs": [],
   "source": [
    "#pip install spreg"
   ]
  },
  {
   "cell_type": "code",
   "execution_count": null,
   "id": "9f3b8b05",
   "metadata": {},
   "outputs": [],
   "source": [
    "import spreg"
   ]
  },
  {
   "cell_type": "code",
   "execution_count": null,
   "id": "5e9c9237",
   "metadata": {},
   "outputs": [],
   "source": [
    "#spreg only works with numpy arrays"
   ]
  },
  {
   "cell_type": "code",
   "execution_count": null,
   "id": "025fba9d",
   "metadata": {},
   "outputs": [],
   "source": [
    "y = merged_data['BF_coverage1000'].values"
   ]
  },
  {
   "cell_type": "code",
   "execution_count": null,
   "id": "725b51d4",
   "metadata": {},
   "outputs": [],
   "source": [
    "x_OLS = merged_data[['invasions_count_cum', 'log_income', 'ln_agriculturalproductivity', 'PT_voteshare','infantmortality']].values\n",
    "x_OLS"
   ]
  },
  {
   "cell_type": "code",
   "execution_count": null,
   "id": "ae7152c7",
   "metadata": {},
   "outputs": [],
   "source": [
    "#We can redefine a weighting matrix, reading neighbors and weights\n",
    "#from libpysal.weights import W\n",
    "#w_matrix = W(wq.neighbors, wq.weights)"
   ]
  },
  {
   "cell_type": "code",
   "execution_count": null,
   "id": "d356f84d",
   "metadata": {},
   "outputs": [],
   "source": [
    "#We dropped some observations, then we need to recalculate the weights, to keep the total size consistent \n",
    "wq = libpysal.weights.Queen.from_dataframe(merged_data)\n",
    "wq.transform = 'r'"
   ]
  },
  {
   "cell_type": "markdown",
   "id": "ebe5d192",
   "metadata": {},
   "source": [
    "##### OLS with spreg"
   ]
  },
  {
   "cell_type": "code",
   "execution_count": null,
   "id": "06359ebc",
   "metadata": {},
   "outputs": [],
   "source": [
    "model_OLS = spreg.OLS(\n",
    "    y[:, None],\n",
    "    x_OLS,\n",
    "    w=wq,\n",
    "    spat_diag=True,\n",
    "    #name_x=['invasions_count_cum', 'log_income', 'ln_agriculturalproductivity', 'PT_voteshare','infantmortality'], \n",
    "    #name_y='Bolsa Familia'\n",
    ")\n",
    "\n",
    "print(model_OLS.summary)"
   ]
  },
  {
   "cell_type": "markdown",
   "id": "1d1ad776",
   "metadata": {},
   "source": [
    "DIAGNOSTICS FOR SPATIAL DEPENDENCE: The main summary from the diagnostics for spatial dependence is that there is clear evidence to reject the null of spatial randomness in the residuals, hence an explicitly spatial approach is warranted."
   ]
  },
  {
   "cell_type": "markdown",
   "id": "a46f6e58",
   "metadata": {},
   "source": [
    "##### Including Spatial lag of X"
   ]
  },
  {
   "cell_type": "code",
   "execution_count": null,
   "id": "2fccc300",
   "metadata": {},
   "outputs": [],
   "source": [
    "x_splag_X = merged_data[['invasions_count_cum', 'invasions_count_splag', 'log_income', 'ln_agriculturalproductivity', 'PT_voteshare','infantmortality']].values"
   ]
  },
  {
   "cell_type": "code",
   "execution_count": null,
   "id": "5b4e95c9",
   "metadata": {},
   "outputs": [],
   "source": [
    "model_splag_of_X = spreg.OLS(\n",
    "    y[:, None],\n",
    "    x_splag_X,\n",
    "    w=wq,\n",
    "    spat_diag=True,\n",
    "    #name_x=['invasions_count_cum', 'invasions_count_splag', 'log_income', 'ln_agriculturalproductivity', 'PT_voteshare','infantmortality'], \n",
    "    #name_y='Bolsa Familia'\n",
    ")\n",
    "\n",
    "print(model_splag_of_X.summary)"
   ]
  },
  {
   "cell_type": "markdown",
   "id": "57411e73",
   "metadata": {},
   "source": [
    "#### Try OLS for the same model:"
   ]
  },
  {
   "cell_type": "code",
   "execution_count": null,
   "id": "613c5444",
   "metadata": {},
   "outputs": [],
   "source": [
    "import statsmodels.api as sm\n",
    "x_splag_X1 = sm.add_constant(x_splag_X)\n",
    "model = sm.OLS(y, x_splag_X1)\n",
    "model_result = model.fit()\n",
    "model_result.summary()"
   ]
  },
  {
   "cell_type": "markdown",
   "id": "a778be07",
   "metadata": {},
   "source": [
    "##### Including Spatial lag of Y"
   ]
  },
  {
   "cell_type": "code",
   "execution_count": null,
   "id": "c9a3dfbd",
   "metadata": {},
   "outputs": [],
   "source": [
    "x_splag_Y = merged_data[['invasions_count_cum', 'BF_coverage1000_splag', 'log_income', 'ln_agriculturalproductivity', 'PT_voteshare','infantmortality']].values"
   ]
  },
  {
   "cell_type": "code",
   "execution_count": null,
   "id": "c8ef1a5c",
   "metadata": {},
   "outputs": [],
   "source": [
    "model_splag_of_Y = spreg.OLS(\n",
    "    y[:, None],\n",
    "    x_splag_Y,\n",
    "    w=wq,\n",
    "    spat_diag=True,\n",
    "    #name_x=['invasions_count_cum', 'BF_coverage1000_splag', 'log_income', 'ln_agriculturalproductivity', 'PT_voteshare','infantmortality'], \n",
    "    #name_y='Bolsa Familia'\n",
    ")\n",
    "\n",
    "print(model_splag_of_Y.summary)"
   ]
  },
  {
   "cell_type": "markdown",
   "id": "ad546e1a",
   "metadata": {},
   "source": [
    "##### Including both spatial lags"
   ]
  },
  {
   "cell_type": "code",
   "execution_count": null,
   "id": "2da4e95c",
   "metadata": {},
   "outputs": [],
   "source": [
    "x_splags = merged_data[['invasions_count_cum', 'invasions_count_splag', 'BF_coverage1000_splag', 'log_income', 'ln_agriculturalproductivity', 'PT_voteshare','infantmortality']].values"
   ]
  },
  {
   "cell_type": "code",
   "execution_count": null,
   "id": "d254c0f2",
   "metadata": {
    "scrolled": true
   },
   "outputs": [],
   "source": [
    "model_splags_both= spreg.OLS(\n",
    "    y[:, None],\n",
    "    x_splags,\n",
    "    w=wq,\n",
    "    spat_diag=True,\n",
    "    #name_x=['invasions_count_cum', 'invasions_count_splag', 'BF_coverage1000_splag', 'log_income', 'ln_agriculturalproductivity', 'PT_voteshare','infantmortality'], \n",
    "    #name_y='Bolsa Familia'\n",
    ")\n",
    "\n",
    "print(model_splags_both.summary)"
   ]
  },
  {
   "cell_type": "markdown",
   "id": "06d1b3b1",
   "metadata": {},
   "source": [
    "!!!! Let's compare results !!!!"
   ]
  },
  {
   "cell_type": "code",
   "execution_count": null,
   "id": "20eb8a47",
   "metadata": {},
   "outputs": [],
   "source": [
    "from sklearn.metrics import mean_squared_error as mse\n",
    "\n",
    "mses = pd.Series({'OLS': mse(y, model_OLS.predy.flatten()),\n",
    "                     'splag_of_X': mse(y, model_splag_of_X.predy.flatten()),\n",
    "                     'splag_of_Y': mse(y, model_splag_of_Y.predy.flatten()),\n",
    "                     'both_splags': mse(y, model_splags_both.predy.flatten())\n",
    "                    })\n",
    "mses.sort_values()"
   ]
  },
  {
   "cell_type": "markdown",
   "id": "cc3f4b6b",
   "metadata": {},
   "source": [
    "### IV2sls with spatial lags"
   ]
  },
  {
   "cell_type": "code",
   "execution_count": null,
   "id": "d5e8e338",
   "metadata": {},
   "outputs": [],
   "source": [
    "#If you are working in geo_env, your environment probably does not have \"linearmodels\" package. Then pip it!\n",
    "#pip install linearmodels"
   ]
  },
  {
   "cell_type": "code",
   "execution_count": null,
   "id": "6ad03fa1",
   "metadata": {},
   "outputs": [],
   "source": [
    "type(merged_data)"
   ]
  },
  {
   "cell_type": "code",
   "execution_count": null,
   "id": "04b2ea24",
   "metadata": {},
   "outputs": [],
   "source": [
    "#Conver geopandas dataframe into a pandas dataframe object\n",
    "merged_data_pd = pd.DataFrame(merged_data)"
   ]
  },
  {
   "cell_type": "code",
   "execution_count": null,
   "id": "196d1a61",
   "metadata": {},
   "outputs": [],
   "source": [
    "type(merged_data_pd)"
   ]
  },
  {
   "cell_type": "code",
   "execution_count": null,
   "id": "b0ddda44",
   "metadata": {},
   "outputs": [],
   "source": [
    "import linearmodels\n",
    "from linearmodels.iv import IV2SLS\n",
    "sp_formula = 'BF_coverage1000 ~ 1 + log_income + ln_agriculturalproductivity + PT_voteshare + infantmortality + BF_coverage1000_splag + invasions_count_splag + [log_invasions_count_cum ~ log_intended_lands1995]'\n",
    "iv2sls = IV2SLS.from_formula(sp_formula, merged_data_pd).fit()\n",
    "iv2sls"
   ]
  },
  {
   "cell_type": "code",
   "execution_count": null,
   "id": "bcc3762e",
   "metadata": {},
   "outputs": [],
   "source": []
  },
  {
   "cell_type": "code",
   "execution_count": null,
   "id": "b0ef35b7",
   "metadata": {},
   "outputs": [],
   "source": []
  }
 ],
 "metadata": {
  "kernelspec": {
   "display_name": "Python 3 (ipykernel)",
   "language": "python",
   "name": "python3"
  },
  "language_info": {
   "codemirror_mode": {
    "name": "ipython",
    "version": 3
   },
   "file_extension": ".py",
   "mimetype": "text/x-python",
   "name": "python",
   "nbconvert_exporter": "python",
   "pygments_lexer": "ipython3",
   "version": "3.9.6"
  }
 },
 "nbformat": 4,
 "nbformat_minor": 5
}
