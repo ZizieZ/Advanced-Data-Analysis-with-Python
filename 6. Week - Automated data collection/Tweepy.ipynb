{
 "cells": [
  {
   "cell_type": "code",
   "execution_count": null,
   "id": "coordinated-bobby",
   "metadata": {},
   "outputs": [],
   "source": [
    "# pip install tweepy"
   ]
  },
  {
   "cell_type": "code",
   "execution_count": 1,
   "id": "neural-comedy",
   "metadata": {},
   "outputs": [],
   "source": [
    "# import tweepy\n",
    "import tweepy as tw\n",
    "# your Twitter API key and API secret\n",
    "my_api_key = \"MY_API_KEY\"\n",
    "my_api_secret = \"MY_API_SECRET\"\n",
    "# authenticate\n",
    "auth = tw.OAuthHandler(my_api_key, my_api_secret)\n",
    "api = tw.API(auth, wait_on_rate_limit=True)"
   ]
  },
  {
   "cell_type": "code",
   "execution_count": 2,
   "id": "living-communication",
   "metadata": {},
   "outputs": [],
   "source": [
    "search_query = \"computational social science -filter:retweets\""
   ]
  },
  {
   "cell_type": "markdown",
   "id": "atomic-albuquerque",
   "metadata": {},
   "source": [
    "Change your search query: \n",
    "https://developer.twitter.com/en/docs/twitter-api/v1/tweets/search/guides/standard-operators"
   ]
  },
  {
   "cell_type": "code",
   "execution_count": 3,
   "id": "478fa622",
   "metadata": {},
   "outputs": [],
   "source": [
    "tweets = api.search_tweets(q = search_query, lang = \"tr\", count = 100) # count is a maximum number per page, it sometimes returns much less. The maximum return count is 100."
   ]
  },
  {
   "cell_type": "code",
   "execution_count": 4,
   "id": "ac3aa335",
   "metadata": {},
   "outputs": [
    {
     "data": {
      "text/plain": [
       "tweepy.models.SearchResults"
      ]
     },
     "execution_count": 4,
     "metadata": {},
     "output_type": "execute_result"
    }
   ],
   "source": [
    "type(tweets)"
   ]
  },
  {
   "cell_type": "code",
   "execution_count": 5,
   "id": "82ba8771",
   "metadata": {
    "scrolled": true
   },
   "outputs": [
    {
     "data": {
      "text/plain": [
       "100"
      ]
     },
     "execution_count": 5,
     "metadata": {},
     "output_type": "execute_result"
    }
   ],
   "source": [
    "len(tweets)"
   ]
  },
  {
   "cell_type": "code",
   "execution_count": null,
   "id": "b1b4e762",
   "metadata": {},
   "outputs": [],
   "source": [
    "tweets[2]"
   ]
  },
  {
   "cell_type": "markdown",
   "id": "1b6a0d1f",
   "metadata": {},
   "source": [
    "Attributes of api object: https://docs.tweepy.org/en/stable/api.html"
   ]
  },
  {
   "cell_type": "code",
   "execution_count": null,
   "id": "86917606-3109-4ed4-a6cc-a73764b23117",
   "metadata": {},
   "outputs": [],
   "source": [
    "description = []\n",
    "\n",
    "for i in range(len(tweets)):\n",
    "    description.append(tweets[i].user.description)\n",
    "    \n",
    "description"
   ]
  },
  {
   "cell_type": "code",
   "execution_count": null,
   "id": "e3dc56f7-57c3-42a6-9107-68ce4c95d362",
   "metadata": {},
   "outputs": [],
   "source": [
    "user_name = []\n",
    "user_location = []\n",
    "user_description = []\n",
    "user_verified = []\n",
    "date = []\n",
    "text = []\n",
    "source = []\n",
    "\n",
    "for i in range(len(tweets)):\n",
    "    user_name.append(tweets[i].user.name)\n",
    "    user_location.append(tweets[i].user.location)\n",
    "    user_description.append(tweets[i].user.description)\n",
    "    user_verified.append(tweets[i].user.verified)\n",
    "    date.append(tweets[i].created_at)\n",
    "    text.append(tweets[i].text)\n",
    "    source.append(tweets[i].source)"
   ]
  },
  {
   "cell_type": "code",
   "execution_count": null,
   "id": "9e802632-97d4-4f9f-9dd7-085f38af204e",
   "metadata": {},
   "outputs": [],
   "source": [
    "print(len(source),len(text))"
   ]
  },
  {
   "cell_type": "code",
   "execution_count": null,
   "id": "e08e287e-fd48-43b9-a317-c5054d00f6fc",
   "metadata": {},
   "outputs": [],
   "source": [
    "dict_tweets = { 'user_name': user_name, \n",
    "                'user_location': user_location,\n",
    "                'user_description': user_description,\n",
    "                'user_verified': user_verified,\n",
    "                'date': date,\n",
    "                'text': text, \n",
    "                'source': source}"
   ]
  },
  {
   "cell_type": "code",
   "execution_count": null,
   "id": "4b955f65-9814-4871-92f5-7027c30852d3",
   "metadata": {},
   "outputs": [],
   "source": [
    "import pandas as pd\n",
    "\n",
    "twitter_data = pd.DataFrame(dict_tweets)"
   ]
  },
  {
   "cell_type": "code",
   "execution_count": null,
   "id": "7a7b099d-cd2a-4d2a-9cfd-502b7a167d78",
   "metadata": {},
   "outputs": [],
   "source": [
    "twitter_data"
   ]
  },
  {
   "cell_type": "markdown",
   "id": "6e16dfe6",
   "metadata": {},
   "source": [
    "Including hashtags:"
   ]
  },
  {
   "cell_type": "code",
   "execution_count": null,
   "id": "4541ddd2-ce6e-4514-a298-d9ab0fd8e4eb",
   "metadata": {},
   "outputs": [],
   "source": [
    "tweets[2].text"
   ]
  },
  {
   "cell_type": "code",
   "execution_count": null,
   "id": "ab27414f-bad1-47c2-827a-12b1364de9ad",
   "metadata": {},
   "outputs": [],
   "source": [
    "tweets[2].entities"
   ]
  },
  {
   "cell_type": "code",
   "execution_count": null,
   "id": "3b077848-a361-49ea-97f1-56c64e50e937",
   "metadata": {},
   "outputs": [],
   "source": [
    "tweets[98].entities['hashtags'][1]"
   ]
  },
  {
   "cell_type": "code",
   "execution_count": null,
   "id": "d3f83c34-fcf4-49c4-9f77-8bb48048f721",
   "metadata": {},
   "outputs": [],
   "source": [
    "user_name = []\n",
    "user_location = []\n",
    "user_description = []\n",
    "user_verified = []\n",
    "date = []\n",
    "text = []\n",
    "source = []\n",
    "all_hashtahgs = []\n",
    "\n",
    "for i in range(len(tweets)):\n",
    "    user_name.append(tweets[i].user.name)\n",
    "    user_location.append(tweets[i].user.location)\n",
    "    user_description.append(tweets[i].user.description)\n",
    "    user_verified.append(tweets[i].user.verified)\n",
    "    date.append(tweets[i].created_at)\n",
    "    text.append(tweets[i].text)\n",
    "    source.append(tweets[i].source)\n",
    "\n",
    "    hashtags = []\n",
    "\n",
    "    for j in range(len(tweets[i].entities[\"hashtags\"])):\n",
    "        hashtags.append(tweets[i].entities[\"hashtags\"][j])\n",
    "    all_hashtahgs.append(hashtags)"
   ]
  },
  {
   "cell_type": "code",
   "execution_count": null,
   "id": "e0d013e0-f9ef-4d0d-ae15-0fba780966e4",
   "metadata": {},
   "outputs": [],
   "source": [
    "dict_tweets2 = { 'user_name': user_name, \n",
    "                'user_location': user_location,\n",
    "                'user_description': user_description,\n",
    "                'user_verified': user_verified,\n",
    "                'date': date,\n",
    "                'text': text, \n",
    "                'source': source,\n",
    "                'all_hashtahgs': all_hashtahgs}\n",
    "\n",
    "twitter_data2 = pd.DataFrame(dict_tweets2)\n",
    "twitter_data2"
   ]
  },
  {
   "cell_type": "code",
   "execution_count": null,
   "id": "expressed-trunk",
   "metadata": {},
   "outputs": [],
   "source": [
    "pd.set_option(\"display.max_colwidth\", -1)\n",
    "\n",
    "twitter_data"
   ]
  }
 ],
 "metadata": {
  "kernelspec": {
   "display_name": "Python 3 (ipykernel)",
   "language": "python",
   "name": "python3"
  },
  "language_info": {
   "codemirror_mode": {
    "name": "ipython",
    "version": 3
   },
   "file_extension": ".py",
   "mimetype": "text/x-python",
   "name": "python",
   "nbconvert_exporter": "python",
   "pygments_lexer": "ipython3",
   "version": "3.8.8"
  }
 },
 "nbformat": 4,
 "nbformat_minor": 5
}
