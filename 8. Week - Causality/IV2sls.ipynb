{
 "cells": [
  {
   "cell_type": "code",
   "execution_count": 1,
   "id": "complicated-brief",
   "metadata": {},
   "outputs": [],
   "source": [
    "import pandas as pd\n",
    "import numpy as np"
   ]
  },
  {
   "cell_type": "code",
   "execution_count": 2,
   "id": "flying-cinema",
   "metadata": {},
   "outputs": [
    {
     "data": {
      "text/plain": [
       "Index(['ibgecode', 'state', 'latitude', 'longitude', 'invasions_count',\n",
       "       'reforms_count', 'invasions_count_cum', 'invasions_dum', 'log_income',\n",
       "       'ln_agriculturalproductivity', 'codigo', 'PT_voteshare',\n",
       "       'infantmortality', 'BF_coverage1000', 'log_invasions_count_cum',\n",
       "       'log_intended_lands1995'],\n",
       "      dtype='object')"
      ]
     },
     "execution_count": 2,
     "metadata": {},
     "output_type": "execute_result"
    }
   ],
   "source": [
    "#A cleaned version Brazil MST data (only for 2005)\n",
    "data = pd.read_stata('C:/Users/user/Desktop/Advanced Data Analysis with Python/Datasets/Brazil MST data 2005.dta')\n",
    "data.columns"
   ]
  },
  {
   "cell_type": "code",
   "execution_count": 3,
   "id": "disabled-number",
   "metadata": {},
   "outputs": [
    {
     "data": {
      "text/html": [
       "<div>\n",
       "<style scoped>\n",
       "    .dataframe tbody tr th:only-of-type {\n",
       "        vertical-align: middle;\n",
       "    }\n",
       "\n",
       "    .dataframe tbody tr th {\n",
       "        vertical-align: top;\n",
       "    }\n",
       "\n",
       "    .dataframe thead th {\n",
       "        text-align: right;\n",
       "    }\n",
       "</style>\n",
       "<table border=\"1\" class=\"dataframe\">\n",
       "  <thead>\n",
       "    <tr style=\"text-align: right;\">\n",
       "      <th></th>\n",
       "      <th>ibgecode</th>\n",
       "      <th>state</th>\n",
       "      <th>latitude</th>\n",
       "      <th>longitude</th>\n",
       "      <th>invasions_count</th>\n",
       "      <th>reforms_count</th>\n",
       "      <th>invasions_count_cum</th>\n",
       "      <th>invasions_dum</th>\n",
       "      <th>log_income</th>\n",
       "      <th>ln_agriculturalproductivity</th>\n",
       "      <th>codigo</th>\n",
       "      <th>PT_voteshare</th>\n",
       "      <th>infantmortality</th>\n",
       "      <th>BF_coverage1000</th>\n",
       "      <th>log_invasions_count_cum</th>\n",
       "      <th>log_intended_lands1995</th>\n",
       "    </tr>\n",
       "  </thead>\n",
       "  <tbody>\n",
       "    <tr>\n",
       "      <th>0</th>\n",
       "      <td>1100015</td>\n",
       "      <td>RO</td>\n",
       "      <td>-11.944</td>\n",
       "      <td>-61.907</td>\n",
       "      <td>0.0</td>\n",
       "      <td>0.0</td>\n",
       "      <td>1.0</td>\n",
       "      <td>0.0</td>\n",
       "      <td>5.704232</td>\n",
       "      <td>4.058813</td>\n",
       "      <td>110001</td>\n",
       "      <td>0.143244</td>\n",
       "      <td>23.508137</td>\n",
       "      <td>70.383179</td>\n",
       "      <td>0.693147</td>\n",
       "      <td>12.880941</td>\n",
       "    </tr>\n",
       "    <tr>\n",
       "      <th>1</th>\n",
       "      <td>1100023</td>\n",
       "      <td>RO</td>\n",
       "      <td>-9.913</td>\n",
       "      <td>-63.041</td>\n",
       "      <td>4.0</td>\n",
       "      <td>0.0</td>\n",
       "      <td>9.0</td>\n",
       "      <td>1.0</td>\n",
       "      <td>6.048920</td>\n",
       "      <td>4.563440</td>\n",
       "      <td>110002</td>\n",
       "      <td>0.084352</td>\n",
       "      <td>13.881177</td>\n",
       "      <td>46.206680</td>\n",
       "      <td>2.302585</td>\n",
       "      <td>12.876694</td>\n",
       "    </tr>\n",
       "    <tr>\n",
       "      <th>2</th>\n",
       "      <td>1100031</td>\n",
       "      <td>RO</td>\n",
       "      <td>-13.498</td>\n",
       "      <td>-60.554</td>\n",
       "      <td>0.0</td>\n",
       "      <td>0.0</td>\n",
       "      <td>0.0</td>\n",
       "      <td>0.0</td>\n",
       "      <td>5.670812</td>\n",
       "      <td>4.332453</td>\n",
       "      <td>110003</td>\n",
       "      <td>0.238043</td>\n",
       "      <td>0.000000</td>\n",
       "      <td>13.717052</td>\n",
       "      <td>0.000000</td>\n",
       "      <td>12.372421</td>\n",
       "    </tr>\n",
       "    <tr>\n",
       "      <th>3</th>\n",
       "      <td>1100049</td>\n",
       "      <td>RO</td>\n",
       "      <td>-11.438</td>\n",
       "      <td>-61.448</td>\n",
       "      <td>0.0</td>\n",
       "      <td>0.0</td>\n",
       "      <td>1.0</td>\n",
       "      <td>0.0</td>\n",
       "      <td>6.012553</td>\n",
       "      <td>4.106792</td>\n",
       "      <td>110004</td>\n",
       "      <td>0.175060</td>\n",
       "      <td>16.358463</td>\n",
       "      <td>78.762436</td>\n",
       "      <td>0.693147</td>\n",
       "      <td>12.665471</td>\n",
       "    </tr>\n",
       "    <tr>\n",
       "      <th>4</th>\n",
       "      <td>1100056</td>\n",
       "      <td>RO</td>\n",
       "      <td>-13.189</td>\n",
       "      <td>-60.812</td>\n",
       "      <td>0.0</td>\n",
       "      <td>0.0</td>\n",
       "      <td>1.0</td>\n",
       "      <td>0.0</td>\n",
       "      <td>5.941381</td>\n",
       "      <td>4.385105</td>\n",
       "      <td>110005</td>\n",
       "      <td>0.295203</td>\n",
       "      <td>19.801981</td>\n",
       "      <td>72.037315</td>\n",
       "      <td>0.693147</td>\n",
       "      <td>13.052385</td>\n",
       "    </tr>\n",
       "    <tr>\n",
       "      <th>...</th>\n",
       "      <td>...</td>\n",
       "      <td>...</td>\n",
       "      <td>...</td>\n",
       "      <td>...</td>\n",
       "      <td>...</td>\n",
       "      <td>...</td>\n",
       "      <td>...</td>\n",
       "      <td>...</td>\n",
       "      <td>...</td>\n",
       "      <td>...</td>\n",
       "      <td>...</td>\n",
       "      <td>...</td>\n",
       "      <td>...</td>\n",
       "      <td>...</td>\n",
       "      <td>...</td>\n",
       "      <td>...</td>\n",
       "    </tr>\n",
       "    <tr>\n",
       "      <th>5593</th>\n",
       "      <td>5222005</td>\n",
       "      <td>GO</td>\n",
       "      <td>-16.742</td>\n",
       "      <td>-48.516</td>\n",
       "      <td>0.0</td>\n",
       "      <td>0.0</td>\n",
       "      <td>0.0</td>\n",
       "      <td>0.0</td>\n",
       "      <td>6.217075</td>\n",
       "      <td>4.480215</td>\n",
       "      <td>522200</td>\n",
       "      <td>0.116532</td>\n",
       "      <td>36.269428</td>\n",
       "      <td>3.071108</td>\n",
       "      <td>0.000000</td>\n",
       "      <td>11.895869</td>\n",
       "    </tr>\n",
       "    <tr>\n",
       "      <th>5594</th>\n",
       "      <td>5222054</td>\n",
       "      <td>GO</td>\n",
       "      <td>-17.735</td>\n",
       "      <td>-49.806</td>\n",
       "      <td>0.0</td>\n",
       "      <td>0.0</td>\n",
       "      <td>0.0</td>\n",
       "      <td>0.0</td>\n",
       "      <td>6.141865</td>\n",
       "      <td>NaN</td>\n",
       "      <td>522205</td>\n",
       "      <td>0.015775</td>\n",
       "      <td>18.181818</td>\n",
       "      <td>37.521141</td>\n",
       "      <td>0.000000</td>\n",
       "      <td>11.844603</td>\n",
       "    </tr>\n",
       "    <tr>\n",
       "      <th>5595</th>\n",
       "      <td>5222203</td>\n",
       "      <td>GO</td>\n",
       "      <td>-15.038</td>\n",
       "      <td>-47.059</td>\n",
       "      <td>0.0</td>\n",
       "      <td>0.0</td>\n",
       "      <td>1.0</td>\n",
       "      <td>0.0</td>\n",
       "      <td>5.546036</td>\n",
       "      <td>4.487371</td>\n",
       "      <td>522220</td>\n",
       "      <td>0.020011</td>\n",
       "      <td>0.000000</td>\n",
       "      <td>71.208298</td>\n",
       "      <td>0.693147</td>\n",
       "      <td>12.212556</td>\n",
       "    </tr>\n",
       "    <tr>\n",
       "      <th>5596</th>\n",
       "      <td>5222302</td>\n",
       "      <td>GO</td>\n",
       "      <td>-15.457</td>\n",
       "      <td>-48.889</td>\n",
       "      <td>0.0</td>\n",
       "      <td>0.0</td>\n",
       "      <td>5.0</td>\n",
       "      <td>0.0</td>\n",
       "      <td>5.495630</td>\n",
       "      <td>4.494347</td>\n",
       "      <td>522230</td>\n",
       "      <td>0.019916</td>\n",
       "      <td>18.518518</td>\n",
       "      <td>22.953484</td>\n",
       "      <td>1.791759</td>\n",
       "      <td>NaN</td>\n",
       "    </tr>\n",
       "    <tr>\n",
       "      <th>5597</th>\n",
       "      <td>5300108</td>\n",
       "      <td>NaN</td>\n",
       "      <td>NaN</td>\n",
       "      <td>NaN</td>\n",
       "      <td>14.0</td>\n",
       "      <td>0.0</td>\n",
       "      <td>45.0</td>\n",
       "      <td>1.0</td>\n",
       "      <td>NaN</td>\n",
       "      <td>4.826248</td>\n",
       "      <td>530010</td>\n",
       "      <td>0.266308</td>\n",
       "      <td>15.528018</td>\n",
       "      <td>23.213242</td>\n",
       "      <td>3.828641</td>\n",
       "      <td>12.254467</td>\n",
       "    </tr>\n",
       "  </tbody>\n",
       "</table>\n",
       "<p>5598 rows × 16 columns</p>\n",
       "</div>"
      ],
      "text/plain": [
       "      ibgecode state  latitude  longitude  invasions_count  reforms_count  \\\n",
       "0      1100015    RO   -11.944    -61.907              0.0            0.0   \n",
       "1      1100023    RO    -9.913    -63.041              4.0            0.0   \n",
       "2      1100031    RO   -13.498    -60.554              0.0            0.0   \n",
       "3      1100049    RO   -11.438    -61.448              0.0            0.0   \n",
       "4      1100056    RO   -13.189    -60.812              0.0            0.0   \n",
       "...        ...   ...       ...        ...              ...            ...   \n",
       "5593   5222005    GO   -16.742    -48.516              0.0            0.0   \n",
       "5594   5222054    GO   -17.735    -49.806              0.0            0.0   \n",
       "5595   5222203    GO   -15.038    -47.059              0.0            0.0   \n",
       "5596   5222302    GO   -15.457    -48.889              0.0            0.0   \n",
       "5597   5300108   NaN       NaN        NaN             14.0            0.0   \n",
       "\n",
       "      invasions_count_cum  invasions_dum  log_income  \\\n",
       "0                     1.0            0.0    5.704232   \n",
       "1                     9.0            1.0    6.048920   \n",
       "2                     0.0            0.0    5.670812   \n",
       "3                     1.0            0.0    6.012553   \n",
       "4                     1.0            0.0    5.941381   \n",
       "...                   ...            ...         ...   \n",
       "5593                  0.0            0.0    6.217075   \n",
       "5594                  0.0            0.0    6.141865   \n",
       "5595                  1.0            0.0    5.546036   \n",
       "5596                  5.0            0.0    5.495630   \n",
       "5597                 45.0            1.0         NaN   \n",
       "\n",
       "      ln_agriculturalproductivity  codigo  PT_voteshare  infantmortality  \\\n",
       "0                        4.058813  110001      0.143244        23.508137   \n",
       "1                        4.563440  110002      0.084352        13.881177   \n",
       "2                        4.332453  110003      0.238043         0.000000   \n",
       "3                        4.106792  110004      0.175060        16.358463   \n",
       "4                        4.385105  110005      0.295203        19.801981   \n",
       "...                           ...     ...           ...              ...   \n",
       "5593                     4.480215  522200      0.116532        36.269428   \n",
       "5594                          NaN  522205      0.015775        18.181818   \n",
       "5595                     4.487371  522220      0.020011         0.000000   \n",
       "5596                     4.494347  522230      0.019916        18.518518   \n",
       "5597                     4.826248  530010      0.266308        15.528018   \n",
       "\n",
       "      BF_coverage1000  log_invasions_count_cum  log_intended_lands1995  \n",
       "0           70.383179                 0.693147               12.880941  \n",
       "1           46.206680                 2.302585               12.876694  \n",
       "2           13.717052                 0.000000               12.372421  \n",
       "3           78.762436                 0.693147               12.665471  \n",
       "4           72.037315                 0.693147               13.052385  \n",
       "...               ...                      ...                     ...  \n",
       "5593         3.071108                 0.000000               11.895869  \n",
       "5594        37.521141                 0.000000               11.844603  \n",
       "5595        71.208298                 0.693147               12.212556  \n",
       "5596        22.953484                 1.791759                     NaN  \n",
       "5597        23.213242                 3.828641               12.254467  \n",
       "\n",
       "[5598 rows x 16 columns]"
      ]
     },
     "execution_count": 3,
     "metadata": {},
     "output_type": "execute_result"
    }
   ],
   "source": [
    "data"
   ]
  },
  {
   "cell_type": "code",
   "execution_count": 4,
   "id": "sensitive-transparency",
   "metadata": {},
   "outputs": [
    {
     "data": {
      "text/plain": [
       "<AxesSubplot:xlabel='invasions_count_cum', ylabel='BF_coverage1000'>"
      ]
     },
     "execution_count": 4,
     "metadata": {},
     "output_type": "execute_result"
    },
    {
     "data": {
      "image/png": "[encoded data removed]",
      "text/plain": [
       "<Figure size 432x288 with 1 Axes>"
      ]
     },
     "metadata": {
      "needs_background": "light"
     },
     "output_type": "display_data"
    }
   ],
   "source": [
    "import seaborn as sns\n",
    "sns.scatterplot(x=\"invasions_count_cum\", y=\"BF_coverage1000\", data=data)"
   ]
  },
  {
   "cell_type": "code",
   "execution_count": 5,
   "id": "personalized-agreement",
   "metadata": {},
   "outputs": [
    {
     "data": {
      "text/plain": [
       "<AxesSubplot:xlabel='invasions_count', ylabel='BF_coverage1000'>"
      ]
     },
     "execution_count": 5,
     "metadata": {},
     "output_type": "execute_result"
    },
    {
     "data": {
      "image/png": "[encoded data removed]",
      "text/plain": [
       "<Figure size 432x288 with 1 Axes>"
      ]
     },
     "metadata": {
      "needs_background": "light"
     },
     "output_type": "display_data"
    }
   ],
   "source": [
    "sns.scatterplot(x=\"invasions_count\", y=\"BF_coverage1000\", data=data)"
   ]
  },
  {
   "cell_type": "code",
   "execution_count": 6,
   "id": "grand-musical",
   "metadata": {},
   "outputs": [
    {
     "data": {
      "text/plain": [
       "<seaborn.axisgrid.FacetGrid at 0x1ed244caf40>"
      ]
     },
     "execution_count": 6,
     "metadata": {},
     "output_type": "execute_result"
    },
    {
     "data": {
      "image/png": "[encoded data removed]",
      "text/plain": [
       "<Figure size 360x360 with 1 Axes>"
      ]
     },
     "metadata": {
      "needs_background": "light"
     },
     "output_type": "display_data"
    }
   ],
   "source": [
    "sns.lmplot(x=\"invasions_count\", y=\"BF_coverage1000\", data=data)"
   ]
  },
  {
   "cell_type": "code",
   "execution_count": 7,
   "id": "deadly-scoop",
   "metadata": {},
   "outputs": [
    {
     "data": {
      "text/plain": [
       "<seaborn.axisgrid.FacetGrid at 0x1ed24e86520>"
      ]
     },
     "execution_count": 7,
     "metadata": {},
     "output_type": "execute_result"
    },
    {
     "data": {
      "image/png": "[encoded data removed]",
      "text/plain": [
       "<Figure size 360x720 with 2 Axes>"
      ]
     },
     "metadata": {
      "needs_background": "light"
     },
     "output_type": "display_data"
    }
   ],
   "source": [
    "sns.displot(x='BF_coverage1000', row='invasions_dum', data=data, linewidth=0, kde=True)"
   ]
  },
  {
   "cell_type": "code",
   "execution_count": 8,
   "id": "bacterial-hughes",
   "metadata": {},
   "outputs": [
    {
     "data": {
      "image/png": "[encoded data removed]",
      "text/plain": [
       "<Figure size 432x288 with 1 Axes>"
      ]
     },
     "metadata": {
      "needs_background": "light"
     },
     "output_type": "display_data"
    }
   ],
   "source": [
    "sns.kdeplot(x='BF_coverage1000', hue='invasions_dum', data=data, shade=True);"
   ]
  },
  {
   "cell_type": "code",
   "execution_count": 9,
   "id": "automated-burlington",
   "metadata": {},
   "outputs": [
    {
     "data": {
      "text/plain": [
       "invasions_count\n",
       "0.0     5252\n",
       "1.0      199\n",
       "2.0       63\n",
       "3.0       24\n",
       "4.0       10\n",
       "5.0        5\n",
       "6.0        2\n",
       "7.0        9\n",
       "10.0       1\n",
       "13.0       1\n",
       "14.0       1\n",
       "16.0       1\n",
       "Name: invasions_count, dtype: int64"
      ]
     },
     "execution_count": 9,
     "metadata": {},
     "output_type": "execute_result"
    }
   ],
   "source": [
    "#Frequency\n",
    "data.groupby('invasions_count')['invasions_count'].count()"
   ]
  },
  {
   "cell_type": "markdown",
   "id": "compressed-position",
   "metadata": {},
   "source": [
    "### IV2SLS model"
   ]
  },
  {
   "cell_type": "code",
   "execution_count": 10,
   "id": "absolute-beatles",
   "metadata": {},
   "outputs": [],
   "source": [
    "#pip install statsmodels\n",
    "#pip install linearmodels"
   ]
  },
  {
   "cell_type": "code",
   "execution_count": 11,
   "id": "classical-proof",
   "metadata": {},
   "outputs": [],
   "source": [
    "data = data.dropna(axis=0)"
   ]
  },
  {
   "cell_type": "code",
   "execution_count": 12,
   "id": "speaking-offense",
   "metadata": {},
   "outputs": [],
   "source": [
    "from statsmodels.sandbox.regression.gmm import IV2SLS"
   ]
  },
  {
   "cell_type": "code",
   "execution_count": 13,
   "id": "legendary-slide",
   "metadata": {},
   "outputs": [],
   "source": [
    "iv2sls = IV2SLS(data['BF_coverage1000'], data['log_invasions_count_cum'], data['log_intended_lands1995']).fit()"
   ]
  },
  {
   "cell_type": "code",
   "execution_count": 18,
   "id": "finite-priest",
   "metadata": {},
   "outputs": [
    {
     "data": {
      "text/plain": [
       "log_invasions_count_cum    185.346405\n",
       "dtype: float32"
      ]
     },
     "execution_count": 18,
     "metadata": {},
     "output_type": "execute_result"
    }
   ],
   "source": [
    "iv2sls.params"
   ]
  },
  {
   "cell_type": "code",
   "execution_count": 24,
   "id": "flush-vienna",
   "metadata": {},
   "outputs": [],
   "source": [
    "import linearmodels"
   ]
  },
  {
   "cell_type": "code",
   "execution_count": 25,
   "id": "activated-breed",
   "metadata": {},
   "outputs": [],
   "source": [
    "from linearmodels.iv import IV2SLS"
   ]
  },
  {
   "cell_type": "code",
   "execution_count": 26,
   "id": "confidential-threshold",
   "metadata": {},
   "outputs": [],
   "source": [
    "formula = 'BF_coverage1000 ~ 1 + log_income + ln_agriculturalproductivity + PT_voteshare + infantmortality + [log_invasions_count_cum ~ log_intended_lands1995]'\n",
    "iv2sls = IV2SLS.from_formula(formula, data).fit()"
   ]
  },
  {
   "cell_type": "code",
   "execution_count": 28,
   "id": "incomplete-hello",
   "metadata": {},
   "outputs": [
    {
     "name": "stdout",
     "output_type": "stream",
     "text": [
      "Parameter: -7.044644076209849\n",
      "SE: 1.7781975623053377\n",
      "95 CI: [-10.5299113   -3.55937685]\n",
      "P-value: 7.442523281420144e-05\n"
     ]
    }
   ],
   "source": [
    "def parse(model, exog=\"log_invasions_count_cum\"):\n",
    "    param = model.params[exog]\n",
    "    se = model.std_errors[exog]\n",
    "    p_val = model.pvalues[exog]\n",
    "    print(f\"Parameter: {param}\")\n",
    "    print(f\"SE: {se}\")\n",
    "    print(f\"95 CI: {(-1.96*se,1.96*se) + param}\")\n",
    "    print(f\"P-value: {p_val}\")\n",
    "    \n",
    "parse(iv2sls)"
   ]
  },
  {
   "cell_type": "code",
   "execution_count": 29,
   "id": "mighty-antarctica",
   "metadata": {},
   "outputs": [
    {
     "data": {
      "text/html": [
       "<table class=\"simpletable\">\n",
       "<caption>IV-2SLS Estimation Summary</caption>\n",
       "<tr>\n",
       "  <th>Dep. Variable:</th>     <td>BF_coverage1000</td> <th>  R-squared:         </th> <td>0.5526</td> \n",
       "</tr>\n",
       "<tr>\n",
       "  <th>Estimator:</th>             <td>IV-2SLS</td>     <th>  Adj. R-squared:    </th> <td>0.5521</td> \n",
       "</tr>\n",
       "<tr>\n",
       "  <th>No. Observations:</th>       <td>4917</td>       <th>  F-statistic:       </th> <td>5649.1</td> \n",
       "</tr>\n",
       "<tr>\n",
       "  <th>Date:</th>             <td>Fri, Aug 05 2022</td> <th>  P-value (F-stat)   </th> <td>0.0000</td> \n",
       "</tr>\n",
       "<tr>\n",
       "  <th>Time:</th>                 <td>13:01:53</td>     <th>  Distribution:      </th> <td>chi2(5)</td>\n",
       "</tr>\n",
       "<tr>\n",
       "  <th>Cov. Estimator:</th>        <td>robust</td>      <th>                     </th>    <td></td>    \n",
       "</tr>\n",
       "<tr>\n",
       "  <th></th>                          <td></td>         <th>                     </th>    <td></td>    \n",
       "</tr>\n",
       "</table>\n",
       "<table class=\"simpletable\">\n",
       "<caption>Parameter Estimates</caption>\n",
       "<tr>\n",
       "               <td></td>               <th>Parameter</th> <th>Std. Err.</th> <th>T-stat</th>  <th>P-value</th> <th>Lower CI</th> <th>Upper CI</th>\n",
       "</tr>\n",
       "<tr>\n",
       "  <th>Intercept</th>                    <td>409.06</td>    <td>5.4618</td>   <td>74.896</td>  <td>0.0000</td>   <td>398.36</td>   <td>419.77</td> \n",
       "</tr>\n",
       "<tr>\n",
       "  <th>PT_voteshare</th>                 <td>-14.384</td>   <td>4.1160</td>   <td>-3.4946</td> <td>0.0005</td>   <td>-22.451</td>  <td>-6.3165</td>\n",
       "</tr>\n",
       "<tr>\n",
       "  <th>infantmortality</th>              <td>-0.0094</td>   <td>0.0280</td>   <td>-0.3344</td> <td>0.7381</td>   <td>-0.0642</td>  <td>0.0455</td> \n",
       "</tr>\n",
       "<tr>\n",
       "  <th>ln_agriculturalproductivity</th>  <td>-6.1430</td>   <td>0.4897</td>   <td>-12.545</td> <td>0.0000</td>   <td>-7.1028</td>  <td>-5.1833</td>\n",
       "</tr>\n",
       "<tr>\n",
       "  <th>log_income</th>                   <td>-54.553</td>   <td>1.0467</td>   <td>-52.120</td> <td>0.0000</td>   <td>-56.604</td>  <td>-52.501</td>\n",
       "</tr>\n",
       "<tr>\n",
       "  <th>log_invasions_count_cum</th>      <td>-7.0446</td>   <td>1.7782</td>   <td>-3.9617</td> <td>0.0001</td>   <td>-10.530</td>  <td>-3.5594</td>\n",
       "</tr>\n",
       "</table><br/><br/>Endogenous: log_invasions_count_cum<br/>Instruments: log_intended_lands1995<br/>Robust Covariance (Heteroskedastic)<br/>Debiased: False<br/>id: 0x1ed27d732e0"
      ],
      "text/plain": [
       "                          IV-2SLS Estimation Summary                          \n",
       "==============================================================================\n",
       "Dep. Variable:        BF_coverage1000   R-squared:                      0.5526\n",
       "Estimator:                    IV-2SLS   Adj. R-squared:                 0.5521\n",
       "No. Observations:                4917   F-statistic:                    5649.1\n",
       "Date:                Fri, Aug 05 2022   P-value (F-stat)                0.0000\n",
       "Time:                        13:01:53   Distribution:                  chi2(5)\n",
       "Cov. Estimator:                robust                                         \n",
       "                                                                              \n",
       "                                      Parameter Estimates                                      \n",
       "===============================================================================================\n",
       "                             Parameter  Std. Err.     T-stat    P-value    Lower CI    Upper CI\n",
       "-----------------------------------------------------------------------------------------------\n",
       "Intercept                       409.06     5.4618     74.896     0.0000      398.36      419.77\n",
       "PT_voteshare                   -14.384     4.1160    -3.4946     0.0005     -22.451     -6.3165\n",
       "infantmortality                -0.0094     0.0280    -0.3344     0.7381     -0.0642      0.0455\n",
       "ln_agriculturalproductivity    -6.1430     0.4897    -12.545     0.0000     -7.1028     -5.1833\n",
       "log_income                     -54.553     1.0467    -52.120     0.0000     -56.604     -52.501\n",
       "log_invasions_count_cum        -7.0446     1.7782    -3.9617     0.0001     -10.530     -3.5594\n",
       "===============================================================================================\n",
       "\n",
       "Endogenous: log_invasions_count_cum\n",
       "Instruments: log_intended_lands1995\n",
       "Robust Covariance (Heteroskedastic)\n",
       "Debiased: False\n",
       "IVResults, id: 0x1ed27d732e0"
      ]
     },
     "execution_count": 29,
     "metadata": {},
     "output_type": "execute_result"
    }
   ],
   "source": [
    "iv2sls"
   ]
  }
 ],
 "metadata": {
  "kernelspec": {
   "display_name": "Python 3 (ipykernel)",
   "language": "python",
   "name": "python3"
  },
  "language_info": {
   "codemirror_mode": {
    "name": "ipython",
    "version": 3
   },
   "file_extension": ".py",
   "mimetype": "text/x-python",
   "name": "python",
   "nbconvert_exporter": "python",
   "pygments_lexer": "ipython3",
   "version": "3.8.8"
  }
 },
 "nbformat": 4,
 "nbformat_minor": 5
}
