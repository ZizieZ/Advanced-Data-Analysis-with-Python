{
 "cells": [
  {
   "cell_type": "code",
   "execution_count": null,
   "id": "complicated-brief",
   "metadata": {},
   "outputs": [],
   "source": [
    "import pandas as pd\n",
    "import numpy as np"
   ]
  },
  {
   "cell_type": "code",
   "execution_count": null,
   "id": "flying-cinema",
   "metadata": {},
   "outputs": [],
   "source": [
    "#A cleaned version Brazil MST data (only for 2005)\n",
    "data = pd.read_stata('C:/Users/user/Desktop/Advanced Data Analysis with Python 9.9.22/Datasets/Brazil MST data 2005.dta')\n",
    "data.columns"
   ]
  },
  {
   "cell_type": "code",
   "execution_count": null,
   "id": "disabled-number",
   "metadata": {},
   "outputs": [],
   "source": [
    "data"
   ]
  },
  {
   "cell_type": "code",
   "execution_count": null,
   "id": "sensitive-transparency",
   "metadata": {},
   "outputs": [],
   "source": [
    "import seaborn as sns\n",
    "sns.scatterplot(x=\"invasions_count_cum\", y=\"BF_coverage1000\", data=data)"
   ]
  },
  {
   "cell_type": "code",
   "execution_count": null,
   "id": "personalized-agreement",
   "metadata": {},
   "outputs": [],
   "source": [
    "sns.scatterplot(x=\"invasions_count\", y=\"BF_coverage1000\", data=data)"
   ]
  },
  {
   "cell_type": "code",
   "execution_count": null,
   "id": "grand-musical",
   "metadata": {},
   "outputs": [],
   "source": [
    "sns.lmplot(x=\"invasions_count\", y=\"BF_coverage1000\", data=data)"
   ]
  },
  {
   "cell_type": "code",
   "execution_count": null,
   "id": "deadly-scoop",
   "metadata": {},
   "outputs": [],
   "source": [
    "sns.displot(x='BF_coverage1000', row='invasions_dum', data=data, linewidth=0, kde=True)"
   ]
  },
  {
   "cell_type": "code",
   "execution_count": null,
   "id": "bacterial-hughes",
   "metadata": {},
   "outputs": [],
   "source": [
    "sns.kdeplot(x='BF_coverage1000', hue='invasions_dum', data=data, shade=True);"
   ]
  },
  {
   "cell_type": "code",
   "execution_count": null,
   "id": "automated-burlington",
   "metadata": {},
   "outputs": [],
   "source": [
    "#Frequency\n",
    "data.groupby('invasions_count')['invasions_count'].count()"
   ]
  },
  {
   "cell_type": "markdown",
   "id": "compressed-position",
   "metadata": {},
   "source": [
    "### IV2SLS model"
   ]
  },
  {
   "cell_type": "code",
   "execution_count": null,
   "id": "9b37596c-3ed0-4c83-9793-896b2fd035f6",
   "metadata": {},
   "outputs": [],
   "source": [
    "#pip install statsmodels"
   ]
  },
  {
   "cell_type": "code",
   "execution_count": null,
   "id": "9011294e-37fc-46c1-976b-f3f2ad094d55",
   "metadata": {},
   "outputs": [],
   "source": [
    "data = data.dropna(axis=0)"
   ]
  },
  {
   "cell_type": "code",
   "execution_count": null,
   "id": "0a4c892f-c632-4963-8d48-222a95326c94",
   "metadata": {},
   "outputs": [],
   "source": [
    "import statsmodels.api as sm\n",
    "\n",
    "y = data['BF_coverage1000']\n",
    "X = data['log_invasions_count_cum']\n",
    "Z = data['log_intended_lands1995']"
   ]
  },
  {
   "cell_type": "markdown",
   "id": "8a589b4b-25a6-49b7-a3ed-2671a182fd18",
   "metadata": {},
   "source": [
    "#### What if we run OLS?"
   ]
  },
  {
   "cell_type": "code",
   "execution_count": null,
   "id": "6be107ca-2237-41bd-a0e0-d759cf75cc0b",
   "metadata": {},
   "outputs": [],
   "source": [
    "OLS =  sm.OLS(y, X).fit()\n",
    "OLS.summary()"
   ]
  },
  {
   "cell_type": "markdown",
   "id": "5f58e4f8-5078-4a3e-8ee9-39ba4039d05d",
   "metadata": {},
   "source": [
    "#### IV2SLS by hand"
   ]
  },
  {
   "cell_type": "code",
   "execution_count": null,
   "id": "c54baf88-0a9e-42a2-a748-88c8e570dd22",
   "metadata": {},
   "outputs": [],
   "source": [
    "first_stage = sm.OLS(X, Z).fit()\n",
    "predicted_X = first_stage.predict(Z)\n",
    "\n",
    "second_stage = sm.OLS(y, predicted_X).fit()\n",
    "second_stage.summary()"
   ]
  },
  {
   "cell_type": "code",
   "execution_count": null,
   "id": "d8a93a27-1767-40fe-885c-cf347c4bc122",
   "metadata": {},
   "outputs": [],
   "source": [
    "first_stage.summary()"
   ]
  },
  {
   "cell_type": "code",
   "execution_count": null,
   "id": "absolute-beatles",
   "metadata": {},
   "outputs": [],
   "source": [
    "#pip install linearmodels"
   ]
  },
  {
   "cell_type": "markdown",
   "id": "6dc0bbe3-3c31-44b0-b4cd-0be730ccdf0f",
   "metadata": {},
   "source": [
    "#### Use already existing libraries"
   ]
  },
  {
   "cell_type": "code",
   "execution_count": null,
   "id": "speaking-offense",
   "metadata": {},
   "outputs": [],
   "source": [
    "from statsmodels.sandbox.regression.gmm import IV2SLS"
   ]
  },
  {
   "cell_type": "code",
   "execution_count": null,
   "id": "legendary-slide",
   "metadata": {},
   "outputs": [],
   "source": [
    "iv2sls = IV2SLS(data['BF_coverage1000'], data['log_invasions_count_cum'], data['log_intended_lands1995']).fit()"
   ]
  },
  {
   "cell_type": "code",
   "execution_count": null,
   "id": "finite-priest",
   "metadata": {},
   "outputs": [],
   "source": [
    "iv2sls.params"
   ]
  },
  {
   "cell_type": "code",
   "execution_count": null,
   "id": "flush-vienna",
   "metadata": {},
   "outputs": [],
   "source": [
    "import linearmodels"
   ]
  },
  {
   "cell_type": "code",
   "execution_count": null,
   "id": "activated-breed",
   "metadata": {},
   "outputs": [],
   "source": [
    "from linearmodels.iv import IV2SLS"
   ]
  },
  {
   "cell_type": "code",
   "execution_count": null,
   "id": "confidential-threshold",
   "metadata": {},
   "outputs": [],
   "source": [
    "formula = 'BF_coverage1000 ~ [log_invasions_count_cum ~ log_intended_lands1995]'\n",
    "iv2sls = IV2SLS.from_formula(formula, data).fit()"
   ]
  },
  {
   "cell_type": "code",
   "execution_count": null,
   "id": "incomplete-hello",
   "metadata": {},
   "outputs": [],
   "source": [
    "def parse(model, exog=\"log_invasions_count_cum\"):\n",
    "    param = model.params[exog]\n",
    "    se = model.std_errors[exog]\n",
    "    p_val = model.pvalues[exog]\n",
    "    print(f\"Parameter: {param}\")\n",
    "    print(f\"SE: {se}\")\n",
    "    print(f\"95 CI: {(-1.96*se,1.96*se) + param}\")\n",
    "    print(f\"P-value: {p_val}\")\n",
    "    \n",
    "parse(iv2sls)"
   ]
  },
  {
   "cell_type": "code",
   "execution_count": null,
   "id": "mighty-antarctica",
   "metadata": {},
   "outputs": [],
   "source": [
    "iv2sls"
   ]
  },
  {
   "cell_type": "code",
   "execution_count": null,
   "id": "1f4cd638-2ce2-44d0-988c-5e0b9b5f7c57",
   "metadata": {},
   "outputs": [],
   "source": [
    "formula = 'BF_coverage1000 ~ 1 + log_income + ln_agriculturalproductivity + PT_voteshare + infantmortality + [log_invasions_count_cum ~ log_intended_lands1995]'\n",
    "iv2sls = IV2SLS.from_formula(formula, data).fit()"
   ]
  },
  {
   "cell_type": "code",
   "execution_count": null,
   "id": "0bbc9be0-44c6-4ae2-8cc4-640231907f83",
   "metadata": {},
   "outputs": [],
   "source": [
    "iv2sls"
   ]
  }
 ],
 "metadata": {
  "kernelspec": {
   "display_name": "Python 3 (ipykernel)",
   "language": "python",
   "name": "python3"
  },
  "language_info": {
   "codemirror_mode": {
    "name": "ipython",
    "version": 3
   },
   "file_extension": ".py",
   "mimetype": "text/x-python",
   "name": "python",
   "nbconvert_exporter": "python",
   "pygments_lexer": "ipython3",
   "version": "3.8.8"
  }
 },
 "nbformat": 4,
 "nbformat_minor": 5
}
