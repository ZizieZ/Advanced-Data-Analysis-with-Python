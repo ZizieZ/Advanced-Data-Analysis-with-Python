{
 "cells": [
  {
   "cell_type": "code",
   "execution_count": null,
   "metadata": {
    "collapsed": true,
    "id": "SadVirJpsVeV",
    "jupyter": {
     "outputs_hidden": true
    }
   },
   "outputs": [],
   "source": [
    "from IPython.core.interactiveshell import InteractiveShell\n",
    "InteractiveShell.ast_node_interactivity = \"all\""
   ]
  },
  {
   "cell_type": "markdown",
   "metadata": {
    "id": "TXQNWNPeDzuF"
   },
   "source": [
    "# Introduction to Scientific Programming in Python - 2"
   ]
  },
  {
   "cell_type": "markdown",
   "metadata": {},
   "source": [
    "Created by Vahid Rostami. Accessed via Social ComQuant project https://socialcomquant.ku.edu.tr/"
   ]
  },
  {
   "cell_type": "markdown",
   "metadata": {
    "id": "dO4KDBceDzuG"
   },
   "source": [
    "Important functions that are frequently used are stored in libraries. In this second day we will introduce two importan python libraries, namely **Numpy** and **Matplotlib**"
   ]
  },
  {
   "cell_type": "markdown",
   "metadata": {
    "id": "L0aZvaKjgfw9"
   },
   "source": [
    "## Numpy"
   ]
  },
  {
   "cell_type": "markdown",
   "metadata": {
    "id": "fwW6O4VegfNM"
   },
   "source": [
    "Numpy (Numerical Python) is a core library in Python for numerical calculation. It consists of multidimensional arrays and a rich collection of methods for applying mathematical operations on those arrays."
   ]
  },
  {
   "cell_type": "markdown",
   "metadata": {
    "id": "kFkbdNg9kR-G"
   },
   "source": [
    "### Numpy Arrays"
   ]
  },
  {
   "cell_type": "markdown",
   "metadata": {
    "id": "Ham1irnhkVYd"
   },
   "source": [
    "Numpy arrays are great alternatives to Python Lists. Specifically for scientific computing and numerical calculation numpy arrays are much easier to handle and do computation. \n",
    "\n",
    "How to create a numpy array:"
   ]
  },
  {
   "cell_type": "code",
   "execution_count": null,
   "metadata": {
    "colab": {
     "base_uri": "https://localhost:8080/"
    },
    "id": "w8BlLsaqhXSS",
    "outputId": "a26e04d2-9996-4746-fd56-f1c0d981450e"
   },
   "outputs": [
    {
     "name": "stdout",
     "output_type": "stream",
     "text": [
      "(3,)\n",
      "(2, 3)\n"
     ]
    },
    {
     "data": {
      "text/plain": [
       "array([[1, 2, 3],\n",
       "       [4, 5, 6]])"
      ]
     },
     "execution_count": 4,
     "metadata": {},
     "output_type": "execute_result"
    }
   ],
   "source": [
    "# first we import numpy. Note that as we gonna call numpy again and again\n",
    "# it is convenient to give a short name to like np\n",
    "import numpy as np\n",
    "\n",
    "arr1d = np.array([1,2,3]) # Create a one dimensional array\n",
    "arr2d = np.array([[1,2,3],\n",
    "               [4,5,6]]) # Create two dimensional array\n",
    "\n",
    "print(arr1d.shape)\n",
    "print(arr2d.shape)\n",
    "arr2d"
   ]
  },
  {
   "cell_type": "markdown",
   "metadata": {
    "id": "-GXdVNrSm65v"
   },
   "source": [
    "Numpy also provides many functions to create arrays:"
   ]
  },
  {
   "cell_type": "code",
   "execution_count": null,
   "metadata": {
    "collapsed": true,
    "id": "EhstX5fSnD4u",
    "jupyter": {
     "outputs_hidden": true
    }
   },
   "outputs": [],
   "source": [
    "import numpy as np\n",
    "\n",
    "a = np.zeros((2,2))   # Create an array of all zeros\n",
    "print(a)              # Prints \"[[ 0.  0.]\n",
    "                      #          [ 0.  0.]]\"\n",
    "\n",
    "b = np.ones((1,2))    # Create an array of all ones\n",
    "print(b)              # Prints \"[[ 1.  1.]]\"\n",
    "\n",
    "c = np.full((2,2), 7)  # Create a constant array\n",
    "print(c)               # Prints \"[[ 7.  7.]\n",
    "                       #          [ 7.  7.]]\"\n",
    "\n",
    "d = np.eye(2)         # Create a 2x2 identity matrix\n",
    "print(d)              # Prints \"[[ 1.  0.]\n",
    "                      #          [ 0.  1.]]\"\n",
    "\n",
    "e = np.random.random((2,2))  # Create an array filled with random values\n",
    "print(e)                     # Might print \"[[ 0.91940167  0.08143941]\n",
    "                             #               [ 0.68744134  0.87236687]]\""
   ]
  },
  {
   "cell_type": "markdown",
   "metadata": {
    "id": "Z1vak3DjmM0X"
   },
   "source": [
    "### Array indexing"
   ]
  },
  {
   "cell_type": "markdown",
   "metadata": {
    "id": "oZtpmuWamQeX"
   },
   "source": [
    "To access any element(s) in a numpy array we use index, something similar to Python lists with a difference that for each dimension of array we will have one index. For example extracting the second value of the first dimension of the arr2d would be: `arr2d[0,2]`. "
   ]
  },
  {
   "cell_type": "markdown",
   "metadata": {
    "id": "M1kt-5tUn85u"
   },
   "source": [
    "Example:"
   ]
  },
  {
   "cell_type": "code",
   "execution_count": null,
   "metadata": {
    "colab": {
     "base_uri": "https://localhost:8080/"
    },
    "collapsed": true,
    "id": "Cvtsn1J6n_j6",
    "jupyter": {
     "outputs_hidden": true
    },
    "outputId": "52f19395-f55a-4780-e9ca-56970e6d3bbc"
   },
   "outputs": [
    {
     "name": "stdout",
     "output_type": "stream",
     "text": [
      "[[7 3]\n",
      " [6 7]]\n",
      "7\n",
      "3\n"
     ]
    },
    {
     "data": {
      "text/plain": [
       "array([[3, 3],\n",
       "       [6, 7]])"
      ]
     },
     "execution_count": 11,
     "metadata": {},
     "output_type": "execute_result"
    }
   ],
   "source": [
    "import numpy as np\n",
    "\n",
    "# Create the following rank 2 array with shape (3, 4)\n",
    "# [[ 3  7  3  4]\n",
    "#  [ 5  6  7  2]\n",
    "#  [ 2  1  1  1]]\n",
    "a = np.array([[3,7,3,4], [5,6,7,2], [2,1,1,1]])\n",
    "\n",
    "# Use slicing to pull out the subarray consisting of the first 2 rows\n",
    "# and columns 1 and 2; b is the following array of shape (2, 2):\n",
    "\n",
    "b = a[:2, 1:3]\n",
    "# A slice of an array is a view into the same data, so modifying it\n",
    "# will modify the original array.\n",
    "print(b)\n",
    "print(a[0, 1])   # Prints \"7\"\n",
    "b[0, 0] = 3     # b[0, 0] is the same piece of data as a[0, 1]\n",
    "print(a[0, 1])   # Prints \"3\"\n",
    "b"
   ]
  },
  {
   "cell_type": "markdown",
   "metadata": {
    "id": "bVxSnR8kl8Zo"
   },
   "source": [
    "There are many usefull functions in Numpy. Here we mention some of them."
   ]
  },
  {
   "cell_type": "markdown",
   "metadata": {
    "id": "pjgVfk_2oOFK"
   },
   "source": [
    "where, add, random, reshape, vstack, mean, median, std, isnan,"
   ]
  },
  {
   "cell_type": "markdown",
   "metadata": {
    "id": "vJ6QncX-oQGg"
   },
   "source": [
    "### Exercises (numpy)"
   ]
  },
  {
   "cell_type": "markdown",
   "metadata": {
    "id": "khxrA6wooSyS"
   },
   "source": [
    "1- Create a 3×3 numpy null array (all the values are zeros)"
   ]
  },
  {
   "cell_type": "code",
   "execution_count": null,
   "metadata": {
    "executionInfo": {
     "elapsed": 698,
     "status": "ok",
     "timestamp": 1657093736595,
     "user": {
      "displayName": "Fuat Kına",
      "userId": "14133596244219008738"
     },
     "user_tz": -180
    },
    "id": "QeLPEPlT3o55"
   },
   "outputs": [],
   "source": []
  },
  {
   "cell_type": "markdown",
   "metadata": {
    "id": "kZveceYSoV9W"
   },
   "source": [
    "*2*- Extract all odd numbers from an array \n",
    "\n",
    "hint: input: [0,1,2,3,4,5,6,7] and desired output: [1,3,5,7]"
   ]
  },
  {
   "cell_type": "code",
   "execution_count": null,
   "metadata": {
    "executionInfo": {
     "elapsed": 330,
     "status": "ok",
     "timestamp": 1657093733109,
     "user": {
      "displayName": "Fuat Kına",
      "userId": "14133596244219008738"
     },
     "user_tz": -180
    },
    "id": "BgoRemFS459K"
   },
   "outputs": [],
   "source": []
  },
  {
   "cell_type": "markdown",
   "metadata": {
    "id": "joH8PWVvpLbY"
   },
   "source": [
    "3- Convert a 1D array to a 2D array with 2 rows\n",
    "\n",
    "hint: input: [0,1,2,3,4,5,6,7], desired output: array([[0,1,2,3], [4,5,6,7]])"
   ]
  },
  {
   "cell_type": "code",
   "execution_count": null,
   "metadata": {
    "executionInfo": {
     "elapsed": 9,
     "status": "ok",
     "timestamp": 1657093730032,
     "user": {
      "displayName": "Fuat Kına",
      "userId": "14133596244219008738"
     },
     "user_tz": -180
    },
    "id": "SGOrHvPn86i1"
   },
   "outputs": [],
   "source": []
  },
  {
   "cell_type": "markdown",
   "metadata": {
    "id": "4Y4bZOo7psbY"
   },
   "source": [
    "4- Stack arrays `a` and `b` vertically.\n",
    "```\n",
    "a = np.arange(10).reshape(2,-1)\n",
    "b = np.repeat(1, 10).reshape(2,-1)\n",
    "```"
   ]
  },
  {
   "cell_type": "code",
   "execution_count": null,
   "metadata": {
    "executionInfo": {
     "elapsed": 381,
     "status": "ok",
     "timestamp": 1657093727518,
     "user": {
      "displayName": "Fuat Kına",
      "userId": "14133596244219008738"
     },
     "user_tz": -180
    },
    "id": "pkOUbP2D9K88"
   },
   "outputs": [],
   "source": []
  },
  {
   "cell_type": "markdown",
   "metadata": {
    "id": "OgUEFx-Yqnah"
   },
   "source": [
    "5- Get all items between 5 and 10 from a.\n",
    "\n",
    "```\n",
    "a = np.arange(0,15,2)\n",
    "```"
   ]
  },
  {
   "cell_type": "code",
   "execution_count": null,
   "metadata": {
    "executionInfo": {
     "elapsed": 363,
     "status": "ok",
     "timestamp": 1657093723601,
     "user": {
      "displayName": "Fuat Kına",
      "userId": "14133596244219008738"
     },
     "user_tz": -180
    },
    "id": "Jff4uRae94hQ"
   },
   "outputs": [],
   "source": []
  },
  {
   "cell_type": "markdown",
   "metadata": {
    "id": "KoaBySONrqFU"
   },
   "source": [
    "6- Find the mean, median and standard deviation of a."
   ]
  },
  {
   "cell_type": "code",
   "execution_count": null,
   "metadata": {
    "executionInfo": {
     "elapsed": 4,
     "status": "ok",
     "timestamp": 1657093720479,
     "user": {
      "displayName": "Fuat Kına",
      "userId": "14133596244219008738"
     },
     "user_tz": -180
    },
    "id": "3MPbE8VB-eX1"
   },
   "outputs": [],
   "source": []
  },
  {
   "cell_type": "markdown",
   "metadata": {
    "id": "4Vm4dynZrv3f"
   },
   "source": [
    "```\n",
    "a = np.random.rand(1000)\n",
    "```"
   ]
  },
  {
   "cell_type": "markdown",
   "metadata": {
    "id": "G2JRKJKKDzuN"
   },
   "source": [
    "\\7- Whare are the indices of `a` (in exercise 6) which are more than 0.5. Define these indices in a new variable called `idx`."
   ]
  },
  {
   "cell_type": "code",
   "execution_count": null,
   "metadata": {
    "executionInfo": {
     "elapsed": 239,
     "status": "ok",
     "timestamp": 1657093715770,
     "user": {
      "displayName": "Fuat Kına",
      "userId": "14133596244219008738"
     },
     "user_tz": -180
    },
    "id": "lFHjJ4lc-1Uv"
   },
   "outputs": [],
   "source": []
  },
  {
   "cell_type": "markdown",
   "metadata": {
    "id": "oZ8zKPDZDzuN"
   },
   "source": [
    "8- Reverse a vector (first element becomes last)."
   ]
  },
  {
   "cell_type": "code",
   "execution_count": null,
   "metadata": {
    "executionInfo": {
     "elapsed": 345,
     "status": "ok",
     "timestamp": 1657093712717,
     "user": {
      "displayName": "Fuat Kına",
      "userId": "14133596244219008738"
     },
     "user_tz": -180
    },
    "id": "tit_6zsy_64o"
   },
   "outputs": [],
   "source": []
  },
  {
   "cell_type": "markdown",
   "metadata": {
    "id": "B_WZEIT-DzuN"
   },
   "source": [
    "9- Create random vector of size 10 and replace the maximum value by 0."
   ]
  },
  {
   "cell_type": "code",
   "execution_count": null,
   "metadata": {
    "executionInfo": {
     "elapsed": 268,
     "status": "ok",
     "timestamp": 1657093710323,
     "user": {
      "displayName": "Fuat Kına",
      "userId": "14133596244219008738"
     },
     "user_tz": -180
    },
    "id": "DiJoZ6OfAVb6"
   },
   "outputs": [],
   "source": []
  },
  {
   "cell_type": "markdown",
   "metadata": {
    "id": "aeTjuLwVDzuN"
   },
   "source": [
    "10- Subtract the mean of each row of a matrix."
   ]
  },
  {
   "cell_type": "code",
   "execution_count": null,
   "metadata": {
    "executionInfo": {
     "elapsed": 245,
     "status": "ok",
     "timestamp": 1657093705075,
     "user": {
      "displayName": "Fuat Kına",
      "userId": "14133596244219008738"
     },
     "user_tz": -180
    },
    "id": "aNoCG85bOMmF"
   },
   "outputs": [],
   "source": []
  },
  {
   "cell_type": "markdown",
   "metadata": {
    "id": "Lp40FFAXDzuN"
   },
   "source": [
    "11- Based on worldometers.info website, the world population on 17th of February 2019 at 11:00 am is ~7684621550 and the average growth rate per day is ~107000. \n",
    "```\n",
    "# World population\n",
    "world_pop = 7684621550\n",
    "# average growth rate per day\n",
    "growth_rate = 107000\n",
    "```\n",
    "Create an array (call it: `world_pop_arr`) which shows the world population from 17th of February until 26th of February. Now create a dictionary with all these information and save the dictionary into a file using `numpy.save`.\n"
   ]
  },
  {
   "cell_type": "code",
   "execution_count": null,
   "metadata": {
    "executionInfo": {
     "elapsed": 310,
     "status": "ok",
     "timestamp": 1657093699852,
     "user": {
      "displayName": "Fuat Kına",
      "userId": "14133596244219008738"
     },
     "user_tz": -180
    },
    "id": "V6LpLjadRSx2"
   },
   "outputs": [],
   "source": []
  },
  {
   "cell_type": "markdown",
   "metadata": {
    "id": "5-DPDMibDzuN"
   },
   "source": [
    "12- Write a time_resolved function for an arbitrary array and an arbitrary step (or window size) that you define."
   ]
  },
  {
   "cell_type": "code",
   "execution_count": null,
   "metadata": {
    "executionInfo": {
     "elapsed": 283,
     "status": "ok",
     "timestamp": 1657093694107,
     "user": {
      "displayName": "Fuat Kına",
      "userId": "14133596244219008738"
     },
     "user_tz": -180
    },
    "id": "A7EZnFEzgeXT"
   },
   "outputs": [],
   "source": []
  },
  {
   "cell_type": "markdown",
   "metadata": {
    "id": "qJLrJFseWDVh"
   },
   "source": [
    "## Matplotlib"
   ]
  },
  {
   "cell_type": "markdown",
   "metadata": {
    "id": "zj_m17tLW9ev"
   },
   "source": [
    "Visualization is one of the most important segments of data analysis. It allows us visual access to huge amounts of data in a simple and powerful way. The core library in Python used for visualization is matplotlib. Matplotlib development started with the idea of emulating Matlab commands in Python. By importing the following module,\n",
    "```\n",
    "import matplotlib.pyplot as plt\n",
    "```\n",
    "one will have access to many functions which are similar to Matlab function for plotting. Let's create some simple plots to learn the important syntaxes."
   ]
  },
  {
   "cell_type": "code",
   "execution_count": null,
   "metadata": {
    "colab": {
     "base_uri": "https://localhost:8080/",
     "height": 297
    },
    "id": "kaGlR2GEZyAL",
    "outputId": "ae18e656-0bd7-4de4-acbf-aa352160a753"
   },
   "outputs": [
    {
     "data": {
      "text/plain": [
       "[<matplotlib.lines.Line2D at 0x7effedde2490>]"
      ]
     },
     "execution_count": 84,
     "metadata": {},
     "output_type": "execute_result"
    },
    {
     "data": {
      "text/plain": [
       "Text(0.5, 0, 'X label')"
      ]
     },
     "execution_count": 84,
     "metadata": {},
     "output_type": "execute_result"
    },
    {
     "data": {
      "text/plain": [
       "Text(0, 0.5, 'Y label')"
      ]
     },
     "execution_count": 84,
     "metadata": {},
     "output_type": "execute_result"
    },
    {
     "data": {
      "image/png": "[encoded data removed]",
      "text/plain": [
       "<Figure size 432x288 with 1 Axes>"
      ]
     },
     "metadata": {
      "needs_background": "light"
     },
     "output_type": "display_data"
    }
   ],
   "source": [
    "import matplotlib.pyplot as plt \n",
    "\n",
    "# data to be plotted\n",
    "X = [1,2,3,4]\n",
    "Y = [10,22,30,40]\n",
    "\n",
    "# plot \n",
    "plt.plot(X, Y, 'r-o')\n",
    "# define xlabel\n",
    "plt.xlabel('X label')\n",
    "# define ylabel\n",
    "plt.ylabel('Y label')\n",
    "# show the plotted figure\n",
    "plt.show()"
   ]
  },
  {
   "cell_type": "markdown",
   "metadata": {
    "id": "k0cjiFFea8OJ"
   },
   "source": [
    "Check the following code and the produced figures. Can you tell what each line of code is doing? "
   ]
  },
  {
   "cell_type": "code",
   "execution_count": null,
   "metadata": {
    "colab": {
     "base_uri": "https://localhost:8080/",
     "height": 300
    },
    "id": "z7WaNnacaytl",
    "outputId": "2b09afd7-11bd-4ef8-edc4-77eb2e5816a6"
   },
   "outputs": [
    {
     "data": {
      "text/plain": [
       "[<matplotlib.lines.Line2D at 0x7effeda83550>]"
      ]
     },
     "execution_count": 90,
     "metadata": {},
     "output_type": "execute_result"
    },
    {
     "data": {
      "text/plain": [
       "[<matplotlib.lines.Line2D at 0x7effeda83a90>]"
      ]
     },
     "execution_count": 90,
     "metadata": {},
     "output_type": "execute_result"
    },
    {
     "data": {
      "text/plain": [
       "[<matplotlib.lines.Line2D at 0x7effeda92050>]"
      ]
     },
     "execution_count": 90,
     "metadata": {},
     "output_type": "execute_result"
    },
    {
     "data": {
      "text/plain": [
       "<matplotlib.legend.Legend at 0x7effedac2b50>"
      ]
     },
     "execution_count": 90,
     "metadata": {},
     "output_type": "execute_result"
    },
    {
     "data": {
      "image/png": "[encoded data removed]",
      "text/plain": [
       "<Figure size 432x288 with 1 Axes>"
      ]
     },
     "metadata": {
      "needs_background": "light"
     },
     "output_type": "display_data"
    }
   ],
   "source": [
    "import numpy as np\n",
    "import matplotlib.pyplot as plt\n",
    "\n",
    "# evenly sampled time at 200ms intervals\n",
    "t = np.arange(0., 5., 0.2)\n",
    "\n",
    "# red dashes, blue squares and green triangles\n",
    "plt.plot(t, t, 'r', label='line one', linewidth=5)\n",
    "plt.plot(t, t**2, 'b^',label='line two', linewidth=2)\n",
    "plt.plot(t,t**3, 'g^', label='marker', markersize = 4)\n",
    "plt.legend()\n",
    "plt.grid(True, color='k') ?\n",
    "plt.show()"
   ]
  },
  {
   "cell_type": "code",
   "execution_count": null,
   "metadata": {
    "colab": {
     "base_uri": "https://localhost:8080/",
     "height": 376
    },
    "id": "g7GUwfxIccxn",
    "outputId": "f5d4d6ed-2f17-4cbb-bd6e-2c6b92d2e6e2"
   },
   "outputs": [
    {
     "data": {
      "image/png": "[encoded data removed]",
      "text/plain": [
       "<Figure size 432x288 with 1 Axes>"
      ]
     },
     "metadata": {
      "needs_background": "light",
      "tags": []
     },
     "output_type": "display_data"
    }
   ],
   "source": [
    "import matplotlib.pyplot as plt\n",
    "population_age = [22,55,62,45,21,22,34,42,42,4,2,102,95,85,55,110,120,70,65,55,111,115,80,75,65,54,44,43,42,48]\n",
    "bins = [0,10,20,30,40,50,60,70,80,90,100]\n",
    "plt.hist(population_age, bins, histtype='bar', rwidth=0.8)\n",
    "plt.xlabel('age groups')\n",
    "plt.ylabel('Number of people')\n",
    "plt.title('Histogram')\n",
    "plt.show()"
   ]
  },
  {
   "cell_type": "markdown",
   "metadata": {
    "id": "ZNzGhKI0ce1o"
   },
   "source": [
    "What you tried to do with the last two figures is the best way of learning matplotlib syntaxes and produces whatever figure you like. Probably you did the following: Checking the figure axes, colors, lines, labels, bars, etc and trying to figure out the line in the code responsible for that feature. This is a very efficient way to create figures and add whatever details you like. One of the best collections for these examples can be found at the following link:\n",
    "\n",
    "[https://matplotlib.org/gallery.html](https://matplotlib.org/gallery.html )\n",
    "\n",
    "Click on the link and find the figure you are interested in and check the code for that figure.\n",
    "\n",
    "As a good exercise try to find out how one can plot multiple subplots in one plot?\n"
   ]
  },
  {
   "cell_type": "markdown",
   "metadata": {
    "id": "yBxEwwDutA65"
   },
   "source": [
    "### Exercises (matplotlib)"
   ]
  },
  {
   "cell_type": "markdown",
   "metadata": {
    "id": "EfGLmmLftDyD"
   },
   "source": [
    "1- Plot two or more lines with legends, different widths and colors."
   ]
  },
  {
   "cell_type": "code",
   "execution_count": null,
   "metadata": {
    "executionInfo": {
     "elapsed": 266,
     "status": "ok",
     "timestamp": 1657093674395,
     "user": {
      "displayName": "Fuat Kına",
      "userId": "14133596244219008738"
     },
     "user_tz": -180
    },
    "id": "Fr76zhy0ZfRZ"
   },
   "outputs": [],
   "source": []
  },
  {
   "cell_type": "markdown",
   "metadata": {
    "id": "o5oJ01hbJ41p"
   },
   "source": [
    "2- Plot two or more lines with different styles."
   ]
  },
  {
   "cell_type": "code",
   "execution_count": null,
   "metadata": {
    "id": "T5GoUJv4bc8u"
   },
   "outputs": [],
   "source": []
  },
  {
   "cell_type": "markdown",
   "metadata": {
    "id": "aPlCltQhDzuP"
   },
   "source": [
    "3- Choose one of your favorite plots from matplotlib gallery and explain the script for that plot to your teammate."
   ]
  },
  {
   "cell_type": "code",
   "execution_count": null,
   "metadata": {
    "id": "DLqAB2W7bfzN"
   },
   "outputs": [],
   "source": []
  },
  {
   "cell_type": "markdown",
   "metadata": {
    "id": "q4K7S1SKDzuP"
   },
   "source": [
    "4- Generate random values from 0 to 1000 and plot these values. For the color of the plot, choose blue color for the values below 500 and red for those above 500."
   ]
  },
  {
   "cell_type": "code",
   "execution_count": null,
   "metadata": {
    "executionInfo": {
     "elapsed": 12,
     "status": "ok",
     "timestamp": 1657093667155,
     "user": {
      "displayName": "Fuat Kına",
      "userId": "14133596244219008738"
     },
     "user_tz": -180
    },
    "id": "lmHAqf5VcUT1"
   },
   "outputs": [],
   "source": []
  },
  {
   "cell_type": "markdown",
   "metadata": {
    "id": "IowaKFfUDzuP"
   },
   "source": [
    "5- For the random values generated in the exercise 4, create a new plot where you put a marker or a dot wherever the value is above 800."
   ]
  },
  {
   "cell_type": "markdown",
   "metadata": {
    "id": "-1S3cD0dDzuP"
   },
   "source": [
    "6- For the random values generated in exercise 4, create a histogram (in a new plot) with appropriate bin size."
   ]
  },
  {
   "cell_type": "markdown",
   "metadata": {
    "id": "PY0dA5cFDzuQ"
   },
   "source": [
    "7- Now apply the time_resolved analysis function that you wrote during numpy exercise on the data from exercise 4 and plot it in a new plot."
   ]
  },
  {
   "cell_type": "code",
   "execution_count": null,
   "metadata": {
    "executionInfo": {
     "elapsed": 12,
     "status": "ok",
     "timestamp": 1657093667154,
     "user": {
      "displayName": "Fuat Kına",
      "userId": "14133596244219008738"
     },
     "user_tz": -180
    },
    "id": "3mJlf0PR5X_G"
   },
   "outputs": [],
   "source": []
  },
  {
   "cell_type": "markdown",
   "metadata": {
    "id": "rNAwbkytDzuQ"
   },
   "source": [
    "8- Now put the plots from exercise 4 to 7 in one plot by using `plt.subplot`."
   ]
  },
  {
   "cell_type": "code",
   "execution_count": null,
   "metadata": {
    "collapsed": true,
    "id": "yLSFgv_kDzuQ",
    "jupyter": {
     "outputs_hidden": true
    }
   },
   "outputs": [],
   "source": []
  }
 ],
 "metadata": {
  "colab": {
   "collapsed_sections": [],
   "name": "Numpy and Matplotit.ipynb",
   "provenance": [
    {
     "file_id": "1Sv683Nckm7EdDBgIkWEYnBa5W-IxAAS5",
     "timestamp": 1657093636361
    }
   ]
  },
  "kernelspec": {
   "display_name": "Python 3 (ipykernel)",
   "language": "python",
   "name": "python3"
  },
  "language_info": {
   "codemirror_mode": {
    "name": "ipython",
    "version": 3
   },
   "file_extension": ".py",
   "mimetype": "text/x-python",
   "name": "python",
   "nbconvert_exporter": "python",
   "pygments_lexer": "ipython3",
   "version": "3.8.8"
  }
 },
 "nbformat": 4,
 "nbformat_minor": 1
}
